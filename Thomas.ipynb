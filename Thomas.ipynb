{
 "cells": [
  {
   "cell_type": "markdown",
   "id": "a08bac43",
   "metadata": {},
   "source": [
    "# Halloween 🎃\n",
    "\n",
    "Here is my example. This notebook reads all the images in the `Images` folder and displays a random one when something gets too close. Check the comments for details."
   ]
  },
  {
   "cell_type": "markdown",
   "id": "4807d73c",
   "metadata": {},
   "source": [
    "Things we need for the sensor and LCD display."
   ]
  },
  {
   "cell_type": "code",
   "execution_count": null,
   "id": "085d5dc7",
   "metadata": {},
   "outputs": [],
   "source": [
    "import time\n",
    "from IPython.display import clear_output\n",
    "from PIL import Image\n",
    "from ltr559 import LTR559\n",
    "import ST7735\n",
    "\n",
    "ltr559 = LTR559()\n",
    "\n",
    "disp = ST7735.ST7735(port=0,cs=1,dc=9,backlight=12,rotation=270,spi_speed_hz=10000000)\n",
    "disp.begin()"
   ]
  },
  {
   "cell_type": "markdown",
   "id": "4fcfe90a",
   "metadata": {},
   "source": [
    "This routine will show an image gallery given a list of file names."
   ]
  },
  {
   "cell_type": "code",
   "execution_count": null,
   "id": "60f1bba4",
   "metadata": {},
   "outputs": [],
   "source": [
    "from IPython.display import HTML\n",
    "\n",
    "def gallery(images, row_height='auto'):\n",
    "    figures = []\n",
    "    for image in images:\n",
    "        src = image\n",
    "        caption = f'<figcaption style=\"font-size: 0.6em\">{image}</figcaption>'\n",
    "        figures.append(f'''\n",
    "            <figure style=\"margin: 5px !important;\">\n",
    "              <img src=\"{src}\" style=\"height: {row_height}\">\n",
    "              {caption}\n",
    "            </figure>\n",
    "        ''')\n",
    "    return HTML(data=f'''\n",
    "        <div style=\"display: flex; flex-flow: row wrap; text-align: center;\">\n",
    "        {''.join(figures)}\n",
    "        </div>\n",
    "    ''')"
   ]
  },
  {
   "cell_type": "markdown",
   "id": "f3da9d5d",
   "metadata": {},
   "source": [
    "#### Reading all images and store them in list\n",
    "\n",
    "Now we use the command glob to get a list of all `images` in the Images folder. Then we read and resize them and add them to our list of images for later."
   ]
  },
  {
   "cell_type": "code",
   "execution_count": null,
   "id": "0c60f87f",
   "metadata": {},
   "outputs": [],
   "source": [
    "from glob import glob\n",
    "\n",
    "# First get a list of all files\n",
    "files = glob('Images/*')\n",
    "print (\"Found {0:4d} image files.\".format(len(files)))\n",
    "\n",
    "# Now loop through the files, read and store them in list images\n",
    "images=[]\n",
    "for file in files:\n",
    "    image = Image.open(file)\n",
    "    image.thumbnail([disp.width, disp.height])    \n",
    "    images.append(image)\n",
    "    \n",
    "gallery(files, row_height=\"80px\")"
   ]
  },
  {
   "cell_type": "markdown",
   "id": "cc912c90",
   "metadata": {},
   "source": [
    "#### Main loop\n",
    "\n",
    "This is the loop checking proximity. Closer than 50 it shows a random image. Note that we select the random image when proximity is smaller that the threshhold, otherwise it woudl keep changing while an object is close 😮 "
   ]
  },
  {
   "cell_type": "code",
   "execution_count": null,
   "id": "9a5c8de0",
   "metadata": {},
   "outputs": [],
   "source": [
    "import random\n",
    "\n",
    "# Just in case something is already close, set the image to a random one.\n",
    "# Note the random number gord from zero to one less that the length of the list\n",
    "image = images[random.randint(0,len(images)-1)] \n",
    "\n",
    "try:\n",
    "    while True:\n",
    "        ltr559.update_sensor()\n",
    "        prox = ltr559.get_proximity()\n",
    "\n",
    "        clear_output(wait=True)\n",
    "        print(prox)\n",
    "        \n",
    "        if(prox > 50):\n",
    "            img = Image.new('RGBA', (disp.width, disp.height))\n",
    "            img.paste(image,(int((disp.width-image.width)/2),0))  # this code puts it in the middle of the screen\n",
    "            disp.display(img)\n",
    "        else:\n",
    "            image = images[random.randint(0,len(images)-1)]       # This sets images to a new random image\n",
    "            img = Image.new('RGBA', (disp.width, disp.height))\n",
    "            disp.display(img)\n",
    "            \n",
    "        time.sleep(0.5)\n",
    "        \n",
    "except KeyboardInterrupt:\n",
    "    pass"
   ]
  },
  {
   "cell_type": "code",
   "execution_count": null,
   "id": "3edf9246",
   "metadata": {},
   "outputs": [],
   "source": []
  }
 ],
 "metadata": {
  "kernelspec": {
   "display_name": "Python 3",
   "language": "python",
   "name": "python3"
  },
  "language_info": {
   "codemirror_mode": {
    "name": "ipython",
    "version": 3
   },
   "file_extension": ".py",
   "mimetype": "text/x-python",
   "name": "python",
   "nbconvert_exporter": "python",
   "pygments_lexer": "ipython3",
   "version": "3.7.3"
  }
 },
 "nbformat": 4,
 "nbformat_minor": 5
}
